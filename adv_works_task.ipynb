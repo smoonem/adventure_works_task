{
 "cells": [
  {
   "cell_type": "code",
   "execution_count": 10,
   "id": "infectious-capability",
   "metadata": {},
   "outputs": [],
   "source": [
    "import pandas as pd\n",
    "df = pd.read_csv('adventure_works_purchase_orders.csv')"
   ]
  },
  {
   "cell_type": "code",
   "execution_count": 29,
   "id": "piano-distribution",
   "metadata": {},
   "outputs": [
    {
     "data": {
      "text/plain": [
       "Sales_Region\n",
       "Germany               1\n",
       "France            12053\n",
       "United States    132971\n",
       "Name: OrderQty, dtype: int64"
      ]
     },
     "execution_count": 29,
     "metadata": {},
     "output_type": "execute_result"
    }
   ],
   "source": [
    "#Calculate Total Orders by Region, to see bad performanse / Germany\n",
    "df.groupby('Sales_Region')['OrderQty'].sum().sort_values()\n"
   ]
  },
  {
   "cell_type": "code",
   "execution_count": 59,
   "id": "driven-printer",
   "metadata": {},
   "outputs": [
    {
     "data": {
      "text/plain": [
       "Sales_Region   Sales_Person            \n",
       "Germany        Rachel Valdez                     $144\n",
       "United States  Amy Alberts                    $59,994\n",
       "               Stephen Jiang                 $487,279\n",
       "               Tete Mensa-Annan            $1,247,677\n",
       "               Pamela Ansman-Wolfe         $2,004,519\n",
       "France         Ranjit Varkey Chudukatil    $2,163,883\n",
       "United States  David Campbell              $2,238,547\n",
       "               Shu Ito                     $3,824,784\n",
       "               Tsvi Reiter                 $4,389,601\n",
       "               Michael Blythe              $5,443,310\n",
       "               Jillian Carson              $5,859,816\n",
       "               Linda Mitchell              $6,174,676\n",
       "Name: Profit, dtype: object"
      ]
     },
     "execution_count": 59,
     "metadata": {},
     "output_type": "execute_result"
    }
   ],
   "source": [
    "#Identify Sales Person in all regions / Rachel Valdez(Germany) and Ammy Alberts(United States)\n",
    "df[\"Cash_In\"] = df[\"OrderQty\"] * df[\"UnitPrice\"]\n",
    "df[\"Total_Cost\"] = df[\"OrderQty\"] * (df[\"Unit_Cost\"] + df[\"Unit_Freight_Cost\"])\n",
    "df[\"Profit\"] = df[\"Cash_In\"] - df[\"Total_Cost\"]\n",
    "df.groupby(['Sales_Region','Sales_Person'])['Profit'].sum().sort_values(ascending = True).map('${:,.0f}'.format)"
   ]
  },
  {
   "cell_type": "code",
   "execution_count": 60,
   "id": "coastal-falls",
   "metadata": {},
   "outputs": [
    {
     "data": {
      "text/plain": [
       "Sales_Region   Sales_Person    \n",
       "Germany        Rachel Valdez             $144\n",
       "United States  Amy Alberts            $59,994\n",
       "               Stephen Jiang         $487,279\n",
       "               Tete Mensa-Annan    $1,247,677\n",
       "Name: Profit, dtype: object"
      ]
     },
     "execution_count": 60,
     "metadata": {},
     "output_type": "execute_result"
    }
   ],
   "source": [
    "# Worst 4 sellers\n",
    "df.groupby(['Sales_Region','Sales_Person'])['Profit'].sum().sort_values(ascending = True).map('${:,.0f}'.format).head(4)"
   ]
  },
  {
   "cell_type": "code",
   "execution_count": 57,
   "id": "adjacent-holder",
   "metadata": {},
   "outputs": [
    {
     "data": {
      "text/html": [
       "<div>\n",
       "<style scoped>\n",
       "    .dataframe tbody tr th:only-of-type {\n",
       "        vertical-align: middle;\n",
       "    }\n",
       "\n",
       "    .dataframe tbody tr th {\n",
       "        vertical-align: top;\n",
       "    }\n",
       "\n",
       "    .dataframe thead th {\n",
       "        text-align: right;\n",
       "    }\n",
       "</style>\n",
       "<table border=\"1\" class=\"dataframe\">\n",
       "  <thead>\n",
       "    <tr style=\"text-align: right;\">\n",
       "      <th></th>\n",
       "      <th>OrderQty</th>\n",
       "      <th>Profit</th>\n",
       "    </tr>\n",
       "    <tr>\n",
       "      <th>Product_Category</th>\n",
       "      <th></th>\n",
       "      <th></th>\n",
       "    </tr>\n",
       "  </thead>\n",
       "  <tbody>\n",
       "    <tr>\n",
       "      <th>Accessories</th>\n",
       "      <td>15792</td>\n",
       "      <td>-2.034284e+05</td>\n",
       "    </tr>\n",
       "    <tr>\n",
       "      <th>Bikes</th>\n",
       "      <td>53544</td>\n",
       "      <td>3.011413e+07</td>\n",
       "    </tr>\n",
       "    <tr>\n",
       "      <th>Clothing</th>\n",
       "      <td>41751</td>\n",
       "      <td>-6.442598e+05</td>\n",
       "    </tr>\n",
       "    <tr>\n",
       "      <th>Components</th>\n",
       "      <td>33938</td>\n",
       "      <td>4.627791e+06</td>\n",
       "    </tr>\n",
       "  </tbody>\n",
       "</table>\n",
       "</div>"
      ],
      "text/plain": [
       "                  OrderQty        Profit\n",
       "Product_Category                        \n",
       "Accessories          15792 -2.034284e+05\n",
       "Bikes                53544  3.011413e+07\n",
       "Clothing             41751 -6.442598e+05\n",
       "Components           33938  4.627791e+06"
      ]
     },
     "execution_count": 57,
     "metadata": {},
     "output_type": "execute_result"
    }
   ],
   "source": [
    "#Find which categories have bad/negative margin\n",
    "df.groupby(['Product_Category']).sum()[[\"OrderQty\", \"Profit\"]]"
   ]
  },
  {
   "cell_type": "code",
   "execution_count": 87,
   "id": "continuing-revelation",
   "metadata": {},
   "outputs": [
    {
     "data": {
      "text/plain": [
       "Product_Category\n",
       "Clothing         $-644,260\n",
       "Accessories      $-203,428\n",
       "Components      $4,627,791\n",
       "Bikes          $30,114,129\n",
       "Name: Profit, dtype: object"
      ]
     },
     "execution_count": 87,
     "metadata": {},
     "output_type": "execute_result"
    }
   ],
   "source": [
    "# High Freight Cost produce negative Margin on Accessories and Clothing\n",
    "df.groupby(\"Product_Category\")[\"Profit\"].sum().sort_values().map('${:,.0f}'.format)"
   ]
  },
  {
   "cell_type": "code",
   "execution_count": 4,
   "id": "bulgarian-coalition",
   "metadata": {},
   "outputs": [
    {
     "data": {
      "text/plain": [
       "Product_Category  Product_Sub_Category\n",
       "Accessories       Bike Racks               1616\n",
       "                  Bottles and Cages        1479\n",
       "                  Cleaners                 1400\n",
       "                  Helmets                  8291\n",
       "                  Hydration Packs          1087\n",
       "                  Locks                     737\n",
       "                  Pumps                     778\n",
       "                  Tires and Tubes           404\n",
       "Bikes             Mountain Bikes          17377\n",
       "                  Road Bikes              29310\n",
       "                  Touring Bikes            6857\n",
       "Clothing          Bib-Shorts               2131\n",
       "                  Caps                     3813\n",
       "                  Gloves                   7639\n",
       "                  Jerseys                 11821\n",
       "                  Shorts                   6040\n",
       "                  Socks                    3695\n",
       "                  Tights                   3194\n",
       "                  Vests                    3418\n",
       "Components        Bottom Brackets           577\n",
       "                  Brakes                    653\n",
       "                  Chains                    512\n",
       "                  Cranksets                 713\n",
       "                  Derailleurs               707\n",
       "                  Forks                     455\n",
       "                  Handlebars               2769\n",
       "                  Headsets                  712\n",
       "                  Mountain Frames          8403\n",
       "                  Pedals                   2737\n",
       "                  Road Frames              8427\n",
       "                  Saddles                  1343\n",
       "                  Touring Frames           2006\n",
       "                  Wheels                   3924\n",
       "Name: OrderQty, dtype: int64"
      ]
     },
     "execution_count": 4,
     "metadata": {},
     "output_type": "execute_result"
    }
   ],
   "source": [
    "#Find which product sub groups are bad / Touring Bikes, Tires and Tubes and Chains and brakes\n",
    "df.groupby(['Product_Category','Product_Sub_Category'])['OrderQty'].sum()"
   ]
  },
  {
   "cell_type": "code",
   "execution_count": 40,
   "id": "several-liver",
   "metadata": {},
   "outputs": [
    {
     "data": {
      "text/plain": [
       "Sales_Region   Sales_Province\n",
       "United States  Michigan           414\n",
       "               Minnesota          609\n",
       "               Tennessee          642\n",
       "               Oregon             669\n",
       "               Washington         687\n",
       "               Massachusetts      809\n",
       "               Utah               954\n",
       "               California         999\n",
       "France         Gironde           1074\n",
       "Name: OrderQty, dtype: int64"
      ]
     },
     "execution_count": 40,
     "metadata": {},
     "output_type": "execute_result"
    }
   ],
   "source": [
    "#Track orders of Touring Bikes by Regions\n",
    "df_touring_bikes = df[df['Product_Sub_Category']=='Touring Bikes']\n",
    "df_touring_bikes.groupby(['Sales_Region','Sales_Province'])['OrderQty'].sum().sort_values(ascending = True)"
   ]
  },
  {
   "cell_type": "code",
   "execution_count": 84,
   "id": "sweet-thing",
   "metadata": {},
   "outputs": [
    {
     "name": "stdout",
     "output_type": "stream",
     "text": [
      "OrderDate       1/1/08   10/1/07   11/1/07   12/1/07    2/1/08    3/1/08  \\\n",
      "Sales_Province                                                             \n",
      "Michigan        1.2500  1.333333  3.588235  3.000000  2.437500  1.947368   \n",
      "Minnesota       1.6875  1.736842  2.300000  2.022727  2.363636  2.416667   \n",
      "Tennessee          NaN       NaN  2.937500  1.672414  1.562500  2.019231   \n",
      "\n",
      "OrderDate         4/1/08    5/1/08    6/1/08    7/1/07    8/1/07    9/1/07  \n",
      "Sales_Province                                                              \n",
      "Michigan        2.000000  2.785714  3.000000  1.333333  3.470588  3.833333  \n",
      "Minnesota       1.588235  1.625000  2.404762  1.684211  1.833333  2.173913  \n",
      "Tennessee            NaN  2.625000  2.103448       NaN  2.800000  2.426230  \n"
     ]
    }
   ],
   "source": [
    "#Track orders of Touring Bikes Michigan, Minnesota and Tennessee\n",
    "df_touring_bikes = df[(df['Product_Sub_Category']=='Touring Bikes') & (df['Sales_Province'].isin(['Michigan','Minnesota','Tennessee']))]\n",
    "table = df_touring_bikes.reset_index().pivot_table(values = 'OrderQty',index = 'Sales_Province',columns = 'OrderDate')  \n",
    "print (table)"
   ]
  }
 ],
 "metadata": {
  "kernelspec": {
   "display_name": "Python 3",
   "language": "python",
   "name": "python3"
  },
  "language_info": {
   "codemirror_mode": {
    "name": "ipython",
    "version": 3
   },
   "file_extension": ".py",
   "mimetype": "text/x-python",
   "name": "python",
   "nbconvert_exporter": "python",
   "pygments_lexer": "ipython3",
   "version": "3.8.5"
  }
 },
 "nbformat": 4,
 "nbformat_minor": 5
}
