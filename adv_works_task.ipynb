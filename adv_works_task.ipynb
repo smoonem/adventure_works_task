{
 "cells": [
  {
   "cell_type": "code",
   "execution_count": 10,
   "id": "infectious-capability",
   "metadata": {},
   "outputs": [],
   "source": [
    "import pandas as pd\n",
    "df = pd.read_csv('adventure_works_purchase_orders.csv')"
   ]
  },
  {
   "cell_type": "code",
   "execution_count": 29,
   "id": "piano-distribution",
   "metadata": {},
   "outputs": [
    {
     "data": {
      "text/plain": [
       "Sales_Region\n",
       "Germany               1\n",
       "France            12053\n",
       "United States    132971\n",
       "Name: OrderQty, dtype: int64"
      ]
     },
     "execution_count": 29,
     "metadata": {},
     "output_type": "execute_result"
    }
   ],
   "source": [
    "#Calculate Total Orders by Region, to see bad performanse / Germany\n",
    "df.groupby('Sales_Region')['OrderQty'].sum().sort_values()\n"
   ]
  },
  {
   "cell_type": "code",
   "execution_count": 35,
   "id": "driven-printer",
   "metadata": {},
   "outputs": [
    {
     "data": {
      "text/plain": [
       "Sales_Region   Sales_Person            \n",
       "Germany        Rachel Valdez                     $143.82\n",
       "United States  Amy Alberts                    $59,994.30\n",
       "               Stephen Jiang                 $487,278.88\n",
       "               Tete Mensa-Annan            $1,247,677.37\n",
       "               Pamela Ansman-Wolfe         $2,004,518.72\n",
       "France         Ranjit Varkey Chudukatil    $2,163,883.49\n",
       "United States  David Campbell              $2,238,546.89\n",
       "               Shu Ito                     $3,824,784.45\n",
       "               Tsvi Reiter                 $4,389,601.22\n",
       "               Michael Blythe              $5,443,309.95\n",
       "               Jillian Carson              $5,859,816.32\n",
       "               Linda Mitchell              $6,174,676.29\n",
       "Name: Profit, dtype: object"
      ]
     },
     "execution_count": 35,
     "metadata": {},
     "output_type": "execute_result"
    }
   ],
   "source": [
    "#Identify Sales Person in all regions / Rachel Valdez(Germany) and Ammy Alberts(United States)\n",
    "df[\"Cash_In\"] = df[\"OrderQty\"] * df[\"UnitPrice\"]\n",
    "df[\"Total_Cost\"] = df[\"OrderQty\"] * (df[\"Unit_Cost\"] + df[\"Unit_Freight_Cost\"])\n",
    "df[\"Profit\"] = df[\"Cash_In\"] - df[\"Total_Cost\"]\n",
    "df.groupby(['Sales_Region','Sales_Person'])['Profit'].sum().sort_values(ascending = True).map('${:,.2f}'.format)"
   ]
  },
  {
   "cell_type": "code",
   "execution_count": 4,
   "id": "bulgarian-coalition",
   "metadata": {},
   "outputs": [
    {
     "data": {
      "text/plain": [
       "Product_Category  Product_Sub_Category\n",
       "Accessories       Bike Racks               1616\n",
       "                  Bottles and Cages        1479\n",
       "                  Cleaners                 1400\n",
       "                  Helmets                  8291\n",
       "                  Hydration Packs          1087\n",
       "                  Locks                     737\n",
       "                  Pumps                     778\n",
       "                  Tires and Tubes           404\n",
       "Bikes             Mountain Bikes          17377\n",
       "                  Road Bikes              29310\n",
       "                  Touring Bikes            6857\n",
       "Clothing          Bib-Shorts               2131\n",
       "                  Caps                     3813\n",
       "                  Gloves                   7639\n",
       "                  Jerseys                 11821\n",
       "                  Shorts                   6040\n",
       "                  Socks                    3695\n",
       "                  Tights                   3194\n",
       "                  Vests                    3418\n",
       "Components        Bottom Brackets           577\n",
       "                  Brakes                    653\n",
       "                  Chains                    512\n",
       "                  Cranksets                 713\n",
       "                  Derailleurs               707\n",
       "                  Forks                     455\n",
       "                  Handlebars               2769\n",
       "                  Headsets                  712\n",
       "                  Mountain Frames          8403\n",
       "                  Pedals                   2737\n",
       "                  Road Frames              8427\n",
       "                  Saddles                  1343\n",
       "                  Touring Frames           2006\n",
       "                  Wheels                   3924\n",
       "Name: OrderQty, dtype: int64"
      ]
     },
     "execution_count": 4,
     "metadata": {},
     "output_type": "execute_result"
    }
   ],
   "source": [
    "#Find which product sub groups are bad / Touring Bikes, Tires and Tubes and Chains and brakes\n",
    "df.groupby(['Product_Category','Product_Sub_Category'])['OrderQty'].sum()"
   ]
  },
  {
   "cell_type": "code",
   "execution_count": 40,
   "id": "several-liver",
   "metadata": {},
   "outputs": [
    {
     "data": {
      "text/plain": [
       "Sales_Region   Sales_Province\n",
       "United States  Michigan           414\n",
       "               Minnesota          609\n",
       "               Tennessee          642\n",
       "               Oregon             669\n",
       "               Washington         687\n",
       "               Massachusetts      809\n",
       "               Utah               954\n",
       "               California         999\n",
       "France         Gironde           1074\n",
       "Name: OrderQty, dtype: int64"
      ]
     },
     "execution_count": 40,
     "metadata": {},
     "output_type": "execute_result"
    }
   ],
   "source": [
    "#Track orders of Touring Bikes by Regions\n",
    "df_touring_bikes = df[df['Product_Sub_Category']=='Touring Bikes']\n",
    "df_touring_bikes.groupby(['Sales_Region','Sales_Province'])['OrderQty'].sum().sort_values(ascending = True)"
   ]
  },
  {
   "cell_type": "code",
   "execution_count": 39,
   "id": "beautiful-morris",
   "metadata": {},
   "outputs": [
    {
     "data": {
      "text/plain": [
       "Sales_Region  OrderDate\n",
       "France        12/1/07        1\n",
       "              6/1/08        10\n",
       "              3/1/08        21\n",
       "              9/1/07        24\n",
       "              11/1/07      209\n",
       "              2/1/08       234\n",
       "              5/1/08       277\n",
       "              8/1/07       298\n",
       "Name: OrderQty, dtype: int64"
      ]
     },
     "execution_count": 39,
     "metadata": {},
     "output_type": "execute_result"
    }
   ],
   "source": [
    "#Track orders of Touring Bikes In France by date\n",
    "df_touring_bikes = df[(df['Product_Sub_Category']=='Touring Bikes') & (df['Sales_Region']=='France')]\n",
    "# Formating OrderDate as a Date\n",
    "df_touring_bikes_dateFormat = df\n",
    "df_touring_bikes.groupby(['Sales_Region','OrderDate'])['OrderQty'].sum().sort_values(ascending = True)"
   ]
  },
  {
   "cell_type": "code",
   "execution_count": 37,
   "id": "signed-saying",
   "metadata": {},
   "outputs": [
    {
     "data": {
      "text/plain": [
       "Product_Category\n",
       "Clothing         $-644,259.85\n",
       "Accessories      $-203,428.40\n",
       "Components      $4,627,791.32\n",
       "Bikes          $30,114,128.62\n",
       "Name: Profit, dtype: object"
      ]
     },
     "execution_count": 37,
     "metadata": {},
     "output_type": "execute_result"
    }
   ],
   "source": [
    "# High Freight Cost produce negative Margin on Accessories and Clothing\n",
    "df.groupby(\"Product_Category\")[\"Profit\"].sum().sort_values().map('${:,.2f}'.format)"
   ]
  }
 ],
 "metadata": {
  "kernelspec": {
   "display_name": "Python 3",
   "language": "python",
   "name": "python3"
  },
  "language_info": {
   "codemirror_mode": {
    "name": "ipython",
    "version": 3
   },
   "file_extension": ".py",
   "mimetype": "text/x-python",
   "name": "python",
   "nbconvert_exporter": "python",
   "pygments_lexer": "ipython3",
   "version": "3.8.5"
  }
 },
 "nbformat": 4,
 "nbformat_minor": 5
}
